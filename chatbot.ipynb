{
 "cells": [
  {
   "cell_type": "code",
   "execution_count": 1,
   "id": "898ea238-7919-4468-bd9a-b60e45002a2a",
   "metadata": {},
   "outputs": [],
   "source": [
    "from langchain_ollama import OllamaLLM\n",
    "from langchain_core.prompts import ChatPromptTemplate"
   ]
  },
  {
   "cell_type": "code",
   "execution_count": 2,
   "id": "c0c29505-c5cc-4c84-a8ee-8db692096eb7",
   "metadata": {},
   "outputs": [],
   "source": [
    "template = \"\"\"\n",
    "Answer the question below.\n",
    "Here is the conversation history : {context}\n",
    "Question : {question}\n",
    "Answer : \n",
    "\"\"\""
   ]
  },
  {
   "cell_type": "code",
   "execution_count": 3,
   "id": "a8708745-4a7b-4dc4-b371-a1768a6306ff",
   "metadata": {},
   "outputs": [],
   "source": [
    "model = OllamaLLM(model = 'llama3')\n",
    "prompt = ChatPromptTemplate.from_template(template)\n",
    "chain = prompt | model"
   ]
  },
  {
   "cell_type": "code",
   "execution_count": 4,
   "id": "2a70ebac-a78f-4bc5-a330-f701df5c29b1",
   "metadata": {},
   "outputs": [
    {
     "name": "stdout",
     "output_type": "stream",
     "text": [
      "Wellcome to the AI Chatbot! Type 'exit' to quit.\n"
     ]
    },
    {
     "name": "stdin",
     "output_type": "stream",
     "text": [
      "You :  hellow ai\n"
     ]
    },
    {
     "name": "stdout",
     "output_type": "stream",
     "text": [
      "Bot : Hello! It's nice to meet you. How can I help you today?\n"
     ]
    },
    {
     "name": "stdin",
     "output_type": "stream",
     "text": [
      "You :  my name is bari\n"
     ]
    },
    {
     "name": "stdout",
     "output_type": "stream",
     "text": [
      "Bot : Nice to meet you too, Bari! It's great to have a new friend on board. What brings you here today? Do you have any questions, topics you'd like to discuss, or maybe something on your mind that I can help with? I'm all ears (or in this case, all text)!\n"
     ]
    },
    {
     "name": "stdin",
     "output_type": "stream",
     "text": [
      "You :  what is my name\n"
     ]
    },
    {
     "name": "stdout",
     "output_type": "stream",
     "text": [
      "Bot : Bari!\n"
     ]
    },
    {
     "name": "stdin",
     "output_type": "stream",
     "text": [
      "You :  exit\n"
     ]
    }
   ],
   "source": [
    "def handle_conversation():\n",
    "    context = \"\"\n",
    "    print(\"Wellcome to the AI Chatbot! Type 'exit' to quit.\")\n",
    "    while True:\n",
    "        user_input = input(\"You : \")\n",
    "        if user_input.lower() == \"exit\":\n",
    "            break\n",
    "        result = chain.invoke({\"context\" : context, \"question\" : user_input})\n",
    "        print(\"Bot :\", result)\n",
    "        context += f\"\\nUser : {user_input}\\nAI : {result}\"\n",
    "\n",
    "if __name__ == \"__main__\":\n",
    "    handle_conversation()"
   ]
  },
  {
   "cell_type": "code",
   "execution_count": null,
   "id": "40bd7cc9-51bf-4689-b181-0a5526c02ba3",
   "metadata": {},
   "outputs": [],
   "source": []
  }
 ],
 "metadata": {
  "kernelspec": {
   "display_name": "Python 3 (ipykernel)",
   "language": "python",
   "name": "python3"
  },
  "language_info": {
   "codemirror_mode": {
    "name": "ipython",
    "version": 3
   },
   "file_extension": ".py",
   "mimetype": "text/x-python",
   "name": "python",
   "nbconvert_exporter": "python",
   "pygments_lexer": "ipython3",
   "version": "3.12.3"
  }
 },
 "nbformat": 4,
 "nbformat_minor": 5
}
